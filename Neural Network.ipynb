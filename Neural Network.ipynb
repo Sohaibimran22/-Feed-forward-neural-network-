{
 "cells": [
  {
   "cell_type": "markdown",
   "metadata": {},
   "source": [
    "# Import Libraries <br />\n",
    "The code below import the required libraries <br />\n",
    "Three benchmark dataset was used from sklearn libraries, which are:<br />\n",
    "1.Breast cancer <br />\n",
    "2.Iris <br />\n",
    "3.Wine   "
   ]
  },
  {
   "cell_type": "code",
   "execution_count": 12,
   "metadata": {},
   "outputs": [],
   "source": [
    "import pandas as pd\n",
    "import numpy as np\n",
    "from sklearn.neural_network import MLPClassifier\n",
    "from sklearn.model_selection import GridSearchCV\n",
    "from sklearn.datasets import load_breast_cancer, load_iris, load_wine\n",
    "from sklearn.model_selection import train_test_split\n",
    "from sklearn.metrics import classification_report"
   ]
  },
  {
   "cell_type": "markdown",
   "metadata": {},
   "source": [
    "# DataSet "
   ]
  },
  {
   "cell_type": "code",
   "execution_count": 13,
   "metadata": {},
   "outputs": [],
   "source": [
    "data1=load_breast_cancer()\n",
    "data2=load_iris()\n",
    "data3=load_wine()\n",
    "dataset=[data1,data2,data3]"
   ]
  },
  {
   "cell_type": "markdown",
   "metadata": {},
   "source": [
    "# Selecting the dataset to use from the three dataset <br />\n",
    "set the value of datasetnum to : <br />\n",
    "1: for breast cancer dataset <br />\n",
    "2: for iris dataset    <br />\n",
    "3: for wine dataset   "
   ]
  },
  {
   "cell_type": "code",
   "execution_count": 14,
   "metadata": {},
   "outputs": [],
   "source": [
    "datasetnum=2\n",
    "data=dataset[datasetnum-1]"
   ]
  },
  {
   "cell_type": "markdown",
   "metadata": {},
   "source": [
    "# Split dataset into: <br />"
   ]
  },
  {
   "cell_type": "code",
   "execution_count": 15,
   "metadata": {},
   "outputs": [],
   "source": [
    "X=data['data']\n",
    "T=data['target']"
   ]
  },
  {
   "cell_type": "markdown",
   "metadata": {},
   "source": [
    "# Train dataset: <br />"
   ]
  },
  {
   "cell_type": "code",
   "execution_count": 16,
   "metadata": {},
   "outputs": [],
   "source": [
    "xtrain1,xtest1,ytrain1,ytest1= train_test_split(X,T, test_size=0.3, random_state=42)"
   ]
  },
  {
   "cell_type": "markdown",
   "metadata": {},
   "source": [
    "# Define hyperparameters\n",
    "The parameters are defined below: <br />\n",
    "1.hiddenlayers is a list of hidden layer with neurons to be given for parameter search <br />\n",
    "2.solverfcn is a list of the neural network solver function to be given for parameter tuning <br />\n",
    "3.learningrate is the list of learning rate functions for parameter tuning <br />\n",
    "4.niter is the number of epoch for neural network (number of neural nework training iteration) <br />\n",
    "5.kfold is the number of cross validation size for testing during parameter tuning         "
   ]
  },
  {
   "cell_type": "code",
   "execution_count": 17,
   "metadata": {},
   "outputs": [],
   "source": [
    "hiddenlayers=[(15,20),(25,5),(25,10)]\n",
    "activationfcn=['identity','logistic','tanh','relu']\n",
    "solverfcn=['lbfgs','sgd','adam']\n",
    "learningrate=['constant','invscaling','adaptive']\n",
    "niter=1000\n",
    "kfold=3"
   ]
  },
  {
   "cell_type": "markdown",
   "metadata": {},
   "source": [
    "# Select the four hyper parameter for tuning: <br />\n",
    "1.Hidden layer size   <br />\n",
    "2.activation function <br />\n",
    "3.solver     <br />\n",
    "4.learning rate function\n",
    "\n",
    "Justification for the selected hyperparamters <br />\n",
    "1. Hidden layer size: The number of layers in a neural network and the number of neurons in each layers are one of <br />  the parameters that influence the accuracy of the model. So it is therefore necessary to include this parameter for <br /> parameter tuning\n",
    "\n",
    "2. Activation function: Activation function are used to transfer neural network output to the actual output of the dataset <br/> , determining the best activation function is usually a problem in neural network. So it is therefore <br /> necessary to include this parameter for tuning\n",
    " \n",
    "3. Solver : Neural network solver are optimization function or loss function that used to compute the error gradient during <br />training for effective back propagation. Determining the best function that fit the dataset is usually a <br /> problem in neural network. So it is therefore necessary to include this parameter for tuning \n",
    "\n",
    "4. Learning rate: The learning rate function which can be constant or changing with training time. <br />Selecting the best function can be a problem which makes it necesary to implement parameter tuning to decide the best "
   ]
  },
  {
   "cell_type": "code",
   "execution_count": 18,
   "metadata": {},
   "outputs": [],
   "source": [
    "parameter_space={\n",
    "                'hidden_layer_sizes':hiddenlayers,\n",
    "                'activation':activationfcn,\n",
    "                'solver':solverfcn,\n",
    "                'learning_rate':learningrate  \n",
    "}"
   ]
  },
  {
   "cell_type": "markdown",
   "metadata": {},
   "source": [
    "# Define the Feed-forward neural network Classifier"
   ]
  },
  {
   "cell_type": "code",
   "execution_count": 19,
   "metadata": {},
   "outputs": [],
   "source": [
    "mlclassifier=MLPClassifier(batch_size='auto',max_iter=niter)"
   ]
  },
  {
   "cell_type": "markdown",
   "metadata": {},
   "source": [
    "# Implement the parameter Tuning"
   ]
  },
  {
   "cell_type": "code",
   "execution_count": 20,
   "metadata": {},
   "outputs": [
    {
     "name": "stderr",
     "output_type": "stream",
     "text": [
      "/opt/anaconda3/lib/python3.7/site-packages/sklearn/model_selection/_search.py:814: DeprecationWarning: The default of the `iid` parameter will change from True to False in version 0.22 and will be removed in 0.24. This will change numeric results when test-set sizes are unequal.\n",
      "  DeprecationWarning)\n"
     ]
    },
    {
     "data": {
      "text/plain": [
       "GridSearchCV(cv=3, error_score='raise-deprecating',\n",
       "             estimator=MLPClassifier(activation='relu', alpha=0.0001,\n",
       "                                     batch_size='auto', beta_1=0.9,\n",
       "                                     beta_2=0.999, early_stopping=False,\n",
       "                                     epsilon=1e-08, hidden_layer_sizes=(100,),\n",
       "                                     learning_rate='constant',\n",
       "                                     learning_rate_init=0.001, max_iter=1000,\n",
       "                                     momentum=0.9, n_iter_no_change=10,\n",
       "                                     nesterovs_momentum=True, power_t=0.5,\n",
       "                                     random_st...\n",
       "                                     validation_fraction=0.1, verbose=False,\n",
       "                                     warm_start=False),\n",
       "             iid='warn', n_jobs=-1,\n",
       "             param_grid={'activation': ['identity', 'logistic', 'tanh', 'relu'],\n",
       "                         'hidden_layer_sizes': [(15, 20), (25, 5), (25, 10)],\n",
       "                         'learning_rate': ['constant', 'invscaling',\n",
       "                                           'adaptive'],\n",
       "                         'solver': ['lbfgs', 'sgd', 'adam']},\n",
       "             pre_dispatch='2*n_jobs', refit=True, return_train_score=True,\n",
       "             scoring=None, verbose=0)"
      ]
     },
     "execution_count": 20,
     "metadata": {},
     "output_type": "execute_result"
    }
   ],
   "source": [
    "model=GridSearchCV(mlclassifier,parameter_space,n_jobs=-1, cv=3, return_train_score=True)\n",
    "model.fit(X,T)"
   ]
  },
  {
   "cell_type": "markdown",
   "metadata": {},
   "source": [
    "# Print the best parameters"
   ]
  },
  {
   "cell_type": "code",
   "execution_count": 21,
   "metadata": {},
   "outputs": [
    {
     "name": "stdout",
     "output_type": "stream",
     "text": [
      "Best parameters obtained:\n",
      " {'activation': 'relu', 'hidden_layer_sizes': (15, 20), 'learning_rate': 'adaptive', 'solver': 'adam'}\n"
     ]
    }
   ],
   "source": [
    "print('Best parameters obtained:\\n',model.best_params_)"
   ]
  },
  {
   "cell_type": "markdown",
   "metadata": {},
   "source": [
    "# Make predictions and print classification report <br />\n",
    "make predictions with the testing data and print classification report which includes:<br />\n",
    "precision, recall and f1-score "
   ]
  },
  {
   "cell_type": "code",
   "execution_count": 22,
   "metadata": {},
   "outputs": [
    {
     "name": "stdout",
     "output_type": "stream",
     "text": [
      "              precision    recall  f1-score   support\n",
      "\n",
      "           0       1.00      1.00      1.00        19\n",
      "           1       1.00      1.00      1.00        13\n",
      "           2       1.00      1.00      1.00        13\n",
      "\n",
      "    accuracy                           1.00        45\n",
      "   macro avg       1.00      1.00      1.00        45\n",
      "weighted avg       1.00      1.00      1.00        45\n",
      "\n"
     ]
    }
   ],
   "source": [
    "prediction1=model.predict(xtest1)\n",
    "\n",
    "print(classification_report(prediction1,ytest1))"
   ]
  }
 ],
 "metadata": {
  "kernelspec": {
   "display_name": "Python 3",
   "language": "python",
   "name": "python3"
  },
  "language_info": {
   "codemirror_mode": {
    "name": "ipython",
    "version": 3
   },
   "file_extension": ".py",
   "mimetype": "text/x-python",
   "name": "python",
   "nbconvert_exporter": "python",
   "pygments_lexer": "ipython3",
   "version": "3.7.4"
  }
 },
 "nbformat": 4,
 "nbformat_minor": 2
}
